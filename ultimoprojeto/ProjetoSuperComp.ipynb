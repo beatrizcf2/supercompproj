{
  "cells": [
    {
      "cell_type": "markdown",
      "metadata": {
        "id": "3ZgrevxMmNpI"
      },
      "source": [
        "# Projeto Supercomputação - TSP\n",
        "\n",
        "O objetivo deste projeto será comparar 2 diferentes implementações paralelas de busca local para o problema do Travel Salesman Problem: \n",
        "* Paralelismo multi-core\n",
        "* Paralelismo em GPU \n",
        "\n",
        "OBS: Para deixar o algoritmo mais rápido, as antigas implementações foram alteradas para realizar a troca comparando apenas com o primeiro índice"
      ]
    },
    {
      "cell_type": "markdown",
      "metadata": {},
      "source": [
        "## Setup"
      ]
    },
    {
      "cell_type": "markdown",
      "metadata": {},
      "source": [
        "### Compilando os códigos"
      ]
    },
    {
      "cell_type": "code",
      "execution_count": 8,
      "metadata": {},
      "outputs": [
        {
          "name": "stderr",
          "output_type": "stream",
          "text": [
            "clang: error: unsupported option '-fopenmp'\n",
            "clang: error: unsupported option '-fopenmp'\n"
          ]
        },
        {
          "data": {
            "text/plain": [
              "1"
            ]
          },
          "execution_count": 8,
          "metadata": {},
          "output_type": "execute_result"
        }
      ],
      "source": [
        "import subprocess\n",
        "\n",
        "# Compile C++ code for global search\n",
        "#subprocess.call([\"g++\", \"-std=c++11\", \"-o\", \"busca-exaustiva\", \"busca-exaustiva/main.cpp\"])\n",
        "\n",
        "# Compile C++ busca local normal code\n",
        "subprocess.call([\"g++\", \"-std=c++11\", \"-o\", \"busca-local-sequencial\", \"busca-local-sequencial.cpp\"])\n",
        "\n",
        "# Compile C++ busca local com openmp\n",
        "subprocess.call([\"g++\", \"-std=c++11\", \"-fopenmp\", \"-o\", \"busca-local-cpu\", \"busca-local-cpu.cpp\"])\n",
        "\n",
        "# Compile C++ busca local com CUDA\n",
        "#subprocess.call([\"nvcc\", \"-arch=sm_70\", \"-std=c++14\", \"-o\", \"busca-local-gpu\", \"busca-local-gpu.cu\"])"
      ]
    },
    {
      "cell_type": "code",
      "execution_count": 3,
      "metadata": {},
      "outputs": [],
      "source": [
        "import time\n",
        "from subprocess import Popen, PIPE\n",
        "def run(exec, entrada):\n",
        "    start = time.perf_counter()\n",
        "    command = \"./\" + exec + \" < \" + entrada\n",
        "    process = Popen(command, stdin=PIPE, stdout=PIPE, stderr=PIPE, shell=True)\n",
        "    stdout, stderr = process.communicate()\n",
        "    end = time.perf_counter()\n",
        "    return end - start\n",
        "\n",
        "def run_all(exec, entradas):\n",
        "    times = []\n",
        "    for entrada in entradas:\n",
        "        times.append(run(exec, entrada))\n",
        "    return times\n",
        "\n",
        "entradas = [\"entradas/in-{}.txt\".format(i) for i in range(150)]"
      ]
    },
    {
      "cell_type": "code",
      "execution_count": 9,
      "metadata": {},
      "outputs": [],
      "source": [
        "# busca local sequencial\n",
        "times_busca_local_sequencial = run_all(\"busca-local-sequencial\", entradas)"
      ]
    },
    {
      "cell_type": "code",
      "execution_count": 32,
      "metadata": {},
      "outputs": [],
      "source": [
        "# busca local com openmp\n",
        "times_busca_local_cpu = run_all(\"busca-local-cpu\", entradas)"
      ]
    },
    {
      "cell_type": "code",
      "execution_count": 33,
      "metadata": {},
      "outputs": [],
      "source": [
        "# busca local com CUDA\n",
        "times_busca_local_gpu = run_all(\"busca-local-gpu\", entradas)\n"
      ]
    },
    {
      "cell_type": "code",
      "execution_count": 14,
      "metadata": {},
      "outputs": [
        {
          "ename": "ModuleNotFoundError",
          "evalue": "No module named 'matplotlib'",
          "output_type": "error",
          "traceback": [
            "\u001b[0;31m---------------------------------------------------------------------------\u001b[0m",
            "\u001b[0;31mModuleNotFoundError\u001b[0m                       Traceback (most recent call last)",
            "Cell \u001b[0;32mIn[14], line 1\u001b[0m\n\u001b[0;32m----> 1\u001b[0m \u001b[39mimport\u001b[39;00m \u001b[39mmatplotlib\u001b[39;00m\u001b[39m.\u001b[39;00m\u001b[39mpyplot\u001b[39;00m \u001b[39mas\u001b[39;00m \u001b[39mplt\u001b[39;00m\n\u001b[1;32m      2\u001b[0m \u001b[39mimport\u001b[39;00m \u001b[39mnumpy\u001b[39;00m \u001b[39mas\u001b[39;00m \u001b[39mnp\u001b[39;00m\n\u001b[1;32m      4\u001b[0m times \u001b[39m=\u001b[39m [times_busca_local_sequencial, times_busca_local_cpu, times_busca_local_gpu]\n",
            "\u001b[0;31mModuleNotFoundError\u001b[0m: No module named 'matplotlib'"
          ]
        }
      ],
      "source": [
        "import matplotlib.pyplot as plt\n",
        "import numpy as np\n",
        "\n",
        "times = [times_busca_local_sequencial, times_busca_local_cpu, times_busca_local_gpu]\n",
        "\n",
        "# plot all in one figure\n",
        "def plot_all(times, title):\n",
        "    plt.figure(figsize=(10, 5))\n",
        "    plt.title(title)\n",
        "    plt.xlabel(\"Entradas\")\n",
        "    plt.ylabel(\"Tempo (s)\")\n",
        "    plt.plot(times[0], label=\"Busca Local Sequencial\")\n",
        "    plt.plot(times[1], label=\"Busca Local CPU\")\n",
        "    plt.plot(times[2], label=\"Busca Local GPU\")\n",
        "    plt.legend()\n",
        "    plt.show()\n",
        "\n",
        "plot_all(times, \"Busca Local\")\n"
      ]
    },
    {
      "cell_type": "markdown",
      "metadata": {
        "id": "D5eNJUb0oQFR"
      },
      "source": [
        "## Comparando o desempenho das implementações\n",
        "\n",
        "### Se você pudesse escolher um método para resolver este problema, qual seria?"
      ]
    },
    {
      "cell_type": "markdown",
      "metadata": {},
      "source": [
        "O método escolhido dependeria do tamanho da entrada. Observa-se no gráfico acima que para entradas maiores, a GPU se sai melhor. Já para entradas menores, a melhor escolha seria a implementação paralelizada da busca local, uma vez que obteve tempos bem menores."
      ]
    },
    {
      "cell_type": "markdown",
      "metadata": {
        "id": "tlcusjVhpOMn"
      },
      "source": [
        "\n",
        "### Valeria a pena gastar dinheiro comprando uma CPU com mais cores ou uma GPU potente?\n"
      ]
    },
    {
      "cell_type": "markdown",
      "metadata": {},
      "source": [
        "Depende das necessidades do usuário. Se ele necessita lidar com pouco volume de dados, a melhor opção seria uma implementação paralelizada na própria CPU. Caso ele lide com um volume de dados alto, a melhor escolha, sem dúvidas é realizar a implementação na GPU."
      ]
    },
    {
      "cell_type": "markdown",
      "metadata": {
        "id": "23aJIjXnpRdb"
      },
      "source": [
        "### Vale a pena esperar pelo resultado da busca exaustiva?"
      ]
    },
    {
      "cell_type": "markdown",
      "metadata": {},
      "source": [
        "Sim, na busca exaustiva são feitas inúmeras operações idênticas para encontrar todos as possíveis combinações. Dito isso, a implementação paralelizada em gpu traria bons resultados em entradas maiores, ao contrário da CPU que tem sua capacidade de processar dados levada ao limite, tornando a implementação lenta e pouco eficiente para entradas maiores."
      ]
    },
    {
      "cell_type": "markdown",
      "metadata": {
        "id": "TSS0nc2WpQgg"
      },
      "source": []
    }
  ],
  "metadata": {
    "colab": {
      "provenance": []
    },
    "kernelspec": {
      "display_name": "Python 3.8.9 64-bit",
      "language": "python",
      "name": "python3"
    },
    "language_info": {
      "codemirror_mode": {
        "name": "ipython",
        "version": 3
      },
      "file_extension": ".py",
      "mimetype": "text/x-python",
      "name": "python",
      "nbconvert_exporter": "python",
      "pygments_lexer": "ipython3",
      "version": "3.8.9"
    },
    "vscode": {
      "interpreter": {
        "hash": "31f2aee4e71d21fbe5cf8b01ff0e069b9275f58929596ceb00d14d90e3e16cd6"
      }
    }
  },
  "nbformat": 4,
  "nbformat_minor": 0
}
