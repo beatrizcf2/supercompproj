{
 "cells": [
  {
   "cell_type": "markdown",
   "id": "bd709817",
   "metadata": {},
   "source": [
    "# Diferentes implementações para o TSP"
   ]
  },
  {
   "cell_type": "markdown",
   "id": "bba81359",
   "metadata": {},
   "source": [
    "## Implementação do algoritimo de busca local e as vantagens da paralelização\n"
   ]
  },
  {
   "cell_type": "code",
   "execution_count": null,
   "id": "24d5d0b7",
   "metadata": {},
   "outputs": [],
   "source": []
  }
 ],
 "metadata": {
  "kernelspec": {
   "display_name": "Python 3 (ipykernel)",
   "language": "python",
   "name": "python3"
  },
  "language_info": {
   "codemirror_mode": {
    "name": "ipython",
    "version": 3
   },
   "file_extension": ".py",
   "mimetype": "text/x-python",
   "name": "python",
   "nbconvert_exporter": "python",
   "pygments_lexer": "ipython3",
   "version": "3.10.8"
  }
 },
 "nbformat": 4,
 "nbformat_minor": 5
}
